{
 "cells": [
  {
   "cell_type": "markdown",
   "metadata": {},
   "source": [
    "# Tonal generator"
   ]
  },
  {
   "cell_type": "code",
   "execution_count": null,
   "metadata": {},
   "outputs": [],
   "source": [
    "import numpy as np\n",
    "%matplotlib inline\n",
    "import matplotlib\n",
    "import matplotlib.pyplot as plt\n",
    "import sounddevice as sd\n",
    "#import threading\n",
    "#import time"
   ]
  },
  {
   "cell_type": "code",
   "execution_count": null,
   "metadata": {},
   "outputs": [],
   "source": [
    "start_idx = 0\n",
    "frequency = 100\n",
    "device = None\n",
    "channels = 1\n",
    "samplerate = 44100\n",
    "amplitude = 0.5"
   ]
  },
  {
   "cell_type": "code",
   "execution_count": null,
   "metadata": {},
   "outputs": [],
   "source": [
    "def callback(outdata, frames, time, status):\n",
    "    global start_idx\n",
    "    t = (start_idx + np.arange(frames)) / samplerate\n",
    "    t = t.reshape(-1, 1)\n",
    "    outdata[:] = amplitude * np.sin(2 * np.pi * frequency * t)\n",
    "    start_idx += frames"
   ]
  },
  {
   "cell_type": "code",
   "execution_count": null,
   "metadata": {},
   "outputs": [],
   "source": [
    "with sd.OutputStream(device=device, channels=channels, callback=callback, samplerate=samplerate):\n",
    "    while frequency > 0:\n",
    "        print(f\"Current frequency (in Hz): {frequency}\")\n",
    "        print(f\"Current amplitude: {amplitude}\")\n",
    "        print(\"Input a frequency (in Hz):\")\n",
    "        frequency = int(input())\n",
    "        print(\"Input an amplitude:\")\n",
    "        amplitude = float(input())"
   ]
  },
  {
   "cell_type": "markdown",
   "metadata": {},
   "source": [
    "################ OLD STUFF ############"
   ]
  },
  {
   "cell_type": "code",
   "execution_count": null,
   "metadata": {},
   "outputs": [],
   "source": [
    "#frequencies = [100, 101, 1000, 1001, 10000, 10001, 20000, 20001]\n",
    "frequencies = [100, 100, 1000, 1000, 10000, 10000, 20000, 20001]\n",
    "def frequency_control():\n",
    "    for i in range(16):\n",
    "        global frequency\n",
    "        frequency = frequencies[i%8]\n",
    "        print(\"Playing\", frequency, \"Hz\")\n",
    "        time.sleep(1)\n",
    "#frequency_control_thread = threading.Thread(target=frequency_control)\n",
    "#frequency_control_thread.start()"
   ]
  }
 ],
 "metadata": {
  "kernelspec": {
   "display_name": "Python 3 (ipykernel)",
   "language": "python",
   "name": "python3"
  },
  "language_info": {
   "codemirror_mode": {
    "name": "ipython",
    "version": 3
   },
   "file_extension": ".py",
   "mimetype": "text/x-python",
   "name": "python",
   "nbconvert_exporter": "python",
   "pygments_lexer": "ipython3",
   "version": "3.10.4"
  }
 },
 "nbformat": 4,
 "nbformat_minor": 4
}
