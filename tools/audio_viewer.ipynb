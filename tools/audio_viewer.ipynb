{
 "cells": [
  {
   "cell_type": "markdown",
   "metadata": {},
   "source": [
    "# Audio viewer"
   ]
  },
  {
   "cell_type": "code",
   "execution_count": 1,
   "metadata": {},
   "outputs": [],
   "source": [
    "import sounddevice as sd\n",
    "import pywt\n",
    "import math\n",
    "import numpy as np\n",
    "%matplotlib inline\n",
    "#%matplotlib notebook\n",
    "import matplotlib\n",
    "import matplotlib.pyplot as plt\n",
    "from scipy import signal\n",
    "from ipywidgets import interactive\n",
    "#from ipywidgets import interact, interactive, fixed, interact_manual\n",
    "import ipywidgets as widgets\n",
    "import pylab"
   ]
  },
  {
   "cell_type": "markdown",
   "metadata": {},
   "source": [
    "## Take an audio sequence"
   ]
  },
  {
   "cell_type": "code",
   "execution_count": 4,
   "metadata": {},
   "outputs": [
    {
     "name": "stdout",
     "output_type": "stream",
     "text": [
      "Say something!\n",
      "done\n"
     ]
    }
   ],
   "source": [
    "fs = 44100\n",
    "duration = 80000/44100  # seconds\n",
    "samples = sd.rec(int(duration * fs), samplerate=fs, channels=1, dtype=np.int16)\n",
    "print(\"Say something!\")\n",
    "while sd.wait():\n",
    "    pass\n",
    "print(\"done\")\n",
    "samples = samples.flatten()"
   ]
  },
  {
   "cell_type": "code",
   "execution_count": 5,
   "metadata": {},
   "outputs": [
    {
     "data": {
      "application/vnd.jupyter.widget-view+json": {
       "model_id": "4d331a0a9ef94ceab786f73912c098e0",
       "version_major": 2,
       "version_minor": 0
      },
      "text/plain": [
       "interactive(children=(IntSlider(value=0, description='left', max=80000, step=100), IntSlider(value=80000, desc…"
      ]
     },
     "execution_count": 5,
     "metadata": {},
     "output_type": "execute_result"
    }
   ],
   "source": [
    "def plot(left, right):\n",
    "    fig = plt.figure(2)\n",
    "    #_samples = samples[offset:offset+zoom]\n",
    "    _samples = samples[left:right]\n",
    "    x = np.linspace(0, len(_samples)-1, num=len(_samples))\n",
    "    plt.plot(x, _samples, '-', markersize=1)\n",
    "    plt.show()\n",
    "\n",
    "interactive_plot = interactive(plot, left=widgets.IntSlider(min=0, max=len(samples), step=100, value=0), right=widgets.IntSlider(min=0, max=len(samples), step=100, value=len(samples)))\n",
    "output = interactive_plot.children[-1]\n",
    "output.layout.height = '350px'\n",
    "interactive_plot"
   ]
  },
  {
   "cell_type": "code",
   "execution_count": null,
   "metadata": {},
   "outputs": [],
   "source": []
  }
 ],
 "metadata": {
  "kernelspec": {
   "display_name": "Python 3 (ipykernel)",
   "language": "python",
   "name": "python3"
  },
  "language_info": {
   "codemirror_mode": {
    "name": "ipython",
    "version": 3
   },
   "file_extension": ".py",
   "mimetype": "text/x-python",
   "name": "python",
   "nbconvert_exporter": "python",
   "pygments_lexer": "ipython3",
   "version": "3.10.4"
  }
 },
 "nbformat": 4,
 "nbformat_minor": 4
}
