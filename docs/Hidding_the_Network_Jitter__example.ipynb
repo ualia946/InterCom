{
 "cells": [
  {
   "cell_type": "markdown",
   "id": "540d8f5c-7772-4983-a1bc-450ceddd7f69",
   "metadata": {
    "editable": true,
    "id": "540d8f5c-7772-4983-a1bc-450ceddd7f69",
    "tags": []
   },
   "source": [
    "# **Hidding the network jitter**"
   ]
  },
  {
   "cell_type": "markdown",
   "id": "9466e3b6-72ab-4382-a379-5b36bbf9a861",
   "metadata": {
    "editable": true,
    "id": "9466e3b6-72ab-4382-a379-5b36bbf9a861",
    "tags": []
   },
   "source": [
    "## **Contenido**\n",
    "\n",
    "1. Caracterización de la latencia en diferentes escenarios\n",
    "    - En tu ordenador\n",
    "    - En Internet\n",
    "2. Clasificación de QoE\n",
    "   - En tu host\n",
    "   - En Internet\n",
    "   - En tu host, pero simulando Internet\n",
    "3. Clasificación QoE considerando perdida de paquetes\n",
    "4. Control del tamaño del Buffer en InterCom\n",
    "5. Creación del modulo NAT_Traversal"
   ]
  },
  {
   "cell_type": "markdown",
   "id": "5454c194-33a9-4ca8-91eb-9183f4ac4154",
   "metadata": {
    "editable": true,
    "id": "5454c194-33a9-4ca8-91eb-9183f4ac4154",
    "tags": []
   },
   "source": [
    "## **Caracterización de la latencia en diferentes escenarios:**"
   ]
  },
  {
   "cell_type": "markdown",
   "id": "7e343130-611b-432b-8458-149a4a40e32c",
   "metadata": {
    "editable": true,
    "id": "7e343130-611b-432b-8458-149a4a40e32c",
    "tags": []
   },
   "source": [
    "### **En tu ordenador:**"
   ]
  },
  {
   "cell_type": "markdown",
   "id": "37970a5d-ed82-40b8-87dd-50397557386c",
   "metadata": {
    "editable": true,
    "id": "37970a5d-ed82-40b8-87dd-50397557386c",
    "tags": []
   },
   "source": [
    "1. **Ping a localhost**"
   ]
  },
  {
   "cell_type": "code",
   "execution_count": null,
   "id": "471358a0-9cd4-446f-ad83-cebcc0202c5e",
   "metadata": {
    "editable": true,
    "id": "471358a0-9cd4-446f-ad83-cebcc0202c5e",
    "outputId": "161c7eba-f41c-4e93-ecea-a3f2cc0c1dfa",
    "tags": []
   },
   "outputs": [
    {
     "name": "stdout",
     "output_type": "stream",
     "text": [
      "^C\n"
     ]
    }
   ],
   "source": [
    "!ping localhost -c 1000 -s 4096 > /tmp/ping.txt"
   ]
  },
  {
   "cell_type": "markdown",
   "id": "d8d183ff-cb87-49ae-b49f-076e8b5ff861",
   "metadata": {
    "editable": true,
    "id": "d8d183ff-cb87-49ae-b49f-076e8b5ff861",
    "tags": []
   },
   "source": [
    "2. **Almacenasmos las latencias en localhost_latencies.txt**"
   ]
  },
  {
   "cell_type": "code",
   "execution_count": null,
   "id": "7e3267f9-53cf-4735-b94d-20e47b873b19",
   "metadata": {
    "editable": true,
    "id": "7e3267f9-53cf-4735-b94d-20e47b873b19",
    "tags": []
   },
   "outputs": [],
   "source": [
    "%%bash\n",
    "export LC\\_NUMERIC=en\\_US.UTF-8 # Use \".\" instead of \",\" for the decimal separator\n",
    "grep from < /tmp/ping.txt | cut -f 4 -d \"=\" | cut -f 1 -d \" \" | awk '{print $1/2}' > /tmp/localhost_latencies.txt"
   ]
  },
  {
   "cell_type": "markdown",
   "id": "29db5ac7-8d48-4df2-a401-85c2ee2beb09",
   "metadata": {
    "editable": true,
    "id": "29db5ac7-8d48-4df2-a401-85c2ee2beb09",
    "tags": []
   },
   "source": [
    "3. **Encontramos el histograma relacionado con las latencias esperadas**"
   ]
  },
  {
   "cell_type": "code",
   "execution_count": null,
   "id": "de7e1ce1-578b-4a58-9d2c-4a7e08705650",
   "metadata": {
    "editable": true,
    "id": "de7e1ce1-578b-4a58-9d2c-4a7e08705650",
    "outputId": "861d5c37-516a-49df-c49d-e9cae3584edb",
    "tags": []
   },
   "outputs": [
    {
     "name": "stdout",
     "output_type": "stream",
     "text": [
      "\n",
      "average latency = 0.022076500000000002\n",
      "maximum absolute deviation (jitter) = 0.014576500000000003\n",
      "Pearson correlation coefficient = 0.03235524302902394\n"
     ]
    }
   ],
   "source": [
    "import numpy as np\n",
    "from scipy import stats\n",
    "latencies = np.loadtxt(\"/tmp/localhost_latencies.txt\")\n",
    "average_latency = np.average(latencies)\n",
    "print(\"\\naverage latency =\", average_latency)\n",
    "max_latency = np.max(latencies)\n",
    "min_latency = np.min(latencies)\n",
    "maximum_absolute_deviation = max(max_latency - average_latency, average_latency - min_latency)\n",
    "print(\"maximum absolute deviation (jitter) =\", maximum_absolute_deviation)\n",
    "correlation_coefficient = stats.pearsonr(latencies, np.roll(latencies, 1))[0]\n",
    "print(\"Pearson correlation coefficient =\", correlation_coefficient)\n",
    "if correlation_coefficient < 0:\n",
    "  print(\"Correlation coefficient < 0: use 0 (no correlation between RTT samples) in your experiments\")\n",
    "histogram = np.histogram(latencies)\n",
    "np.savetxt(\"/tmp/localhost_histogram.txt\", histogram[0])"
   ]
  },
  {
   "cell_type": "markdown",
   "id": "a3f8c79e-e85b-4511-9c1f-01db1af2d22c",
   "metadata": {
    "editable": true,
    "id": "a3f8c79e-e85b-4511-9c1f-01db1af2d22c",
    "tags": []
   },
   "source": [
    "**El resultado obtenido ha sido:**\n",
    "\n",
    "average latency = 0.021672672672672668\n",
    "\n",
    "maximum absolute deviation (jitter) = 0.017827327327327332\n",
    "\n",
    "Pearson correlation coefficient = 0.16497126018732858"
   ]
  },
  {
   "cell_type": "markdown",
   "id": "9083f0c2-b7d2-4764-bed6-873985744ba8",
   "metadata": {
    "editable": true,
    "id": "9083f0c2-b7d2-4764-bed6-873985744ba8",
    "tags": []
   },
   "source": [
    "4. **Trazamos el histograma**"
   ]
  },
  {
   "cell_type": "code",
   "execution_count": null,
   "id": "5e3b0f3a-f586-448c-a03d-033f721fb604",
   "metadata": {
    "editable": true,
    "id": "5e3b0f3a-f586-448c-a03d-033f721fb604",
    "outputId": "b03304bb-f0bf-400b-9373-65d81a411590",
    "scrolled": true,
    "tags": []
   },
   "outputs": [
    {
     "name": "stdout",
     "output_type": "stream",
     "text": [
      "Requirement already satisfied: gnuplot_kernel in /home/javier/enviroments/intercom/lib/python3.10/site-packages (0.4.1)\n",
      "Requirement already satisfied: notebook>=5.5.0 in /home/javier/enviroments/intercom/lib/python3.10/site-packages (from gnuplot_kernel) (7.0.6)\n",
      "Requirement already satisfied: metakernel>=0.24.4 in /home/javier/enviroments/intercom/lib/python3.10/site-packages (from gnuplot_kernel) (0.30.1)\n",
      "Requirement already satisfied: pexpect>=4.8 in /home/javier/enviroments/intercom/lib/python3.10/site-packages (from metakernel>=0.24.4->gnuplot_kernel) (4.8.0)\n",
      "Requirement already satisfied: jedi>=0.18 in /home/javier/enviroments/intercom/lib/python3.10/site-packages (from metakernel>=0.24.4->gnuplot_kernel) (0.19.1)\n",
      "Requirement already satisfied: ipykernel>=5.5.6 in /home/javier/enviroments/intercom/lib/python3.10/site-packages (from metakernel>=0.24.4->gnuplot_kernel) (6.25.2)\n",
      "Requirement already satisfied: jupyter-core>=4.9.2 in /home/javier/enviroments/intercom/lib/python3.10/site-packages (from metakernel>=0.24.4->gnuplot_kernel) (5.4.0)\n",
      "Requirement already satisfied: jupyterlab<5,>=4.0.2 in /home/javier/enviroments/intercom/lib/python3.10/site-packages (from notebook>=5.5.0->gnuplot_kernel) (4.0.7)\n",
      "Requirement already satisfied: tornado>=6.2.0 in /home/javier/enviroments/intercom/lib/python3.10/site-packages (from notebook>=5.5.0->gnuplot_kernel) (6.3.3)\n",
      "Requirement already satisfied: jupyterlab-server<3,>=2.22.1 in /home/javier/enviroments/intercom/lib/python3.10/site-packages (from notebook>=5.5.0->gnuplot_kernel) (2.25.0)\n",
      "Requirement already satisfied: jupyter-server<3,>=2.4.0 in /home/javier/enviroments/intercom/lib/python3.10/site-packages (from notebook>=5.5.0->gnuplot_kernel) (2.8.0)\n",
      "Requirement already satisfied: notebook-shim<0.3,>=0.2 in /home/javier/enviroments/intercom/lib/python3.10/site-packages (from notebook>=5.5.0->gnuplot_kernel) (0.2.3)\n",
      "Requirement already satisfied: pyzmq>=20 in /home/javier/enviroments/intercom/lib/python3.10/site-packages (from ipykernel>=5.5.6->metakernel>=0.24.4->gnuplot_kernel) (25.1.1)\n",
      "Requirement already satisfied: ipython>=7.23.1 in /home/javier/enviroments/intercom/lib/python3.10/site-packages (from ipykernel>=5.5.6->metakernel>=0.24.4->gnuplot_kernel) (8.16.1)\n",
      "Requirement already satisfied: nest-asyncio in /home/javier/enviroments/intercom/lib/python3.10/site-packages (from ipykernel>=5.5.6->metakernel>=0.24.4->gnuplot_kernel) (1.5.8)\n",
      "Requirement already satisfied: matplotlib-inline>=0.1 in /home/javier/enviroments/intercom/lib/python3.10/site-packages (from ipykernel>=5.5.6->metakernel>=0.24.4->gnuplot_kernel) (0.1.6)\n",
      "Requirement already satisfied: packaging in /home/javier/enviroments/intercom/lib/python3.10/site-packages (from ipykernel>=5.5.6->metakernel>=0.24.4->gnuplot_kernel) (23.1)\n",
      "Requirement already satisfied: psutil in /home/javier/enviroments/intercom/lib/python3.10/site-packages (from ipykernel>=5.5.6->metakernel>=0.24.4->gnuplot_kernel) (5.9.5)\n",
      "Requirement already satisfied: debugpy>=1.6.5 in /home/javier/enviroments/intercom/lib/python3.10/site-packages (from ipykernel>=5.5.6->metakernel>=0.24.4->gnuplot_kernel) (1.8.0)\n",
      "Requirement already satisfied: traitlets>=5.4.0 in /home/javier/enviroments/intercom/lib/python3.10/site-packages (from ipykernel>=5.5.6->metakernel>=0.24.4->gnuplot_kernel) (5.11.2)\n",
      "Requirement already satisfied: jupyter-client>=6.1.12 in /home/javier/enviroments/intercom/lib/python3.10/site-packages (from ipykernel>=5.5.6->metakernel>=0.24.4->gnuplot_kernel) (8.4.0)\n",
      "Requirement already satisfied: comm>=0.1.1 in /home/javier/enviroments/intercom/lib/python3.10/site-packages (from ipykernel>=5.5.6->metakernel>=0.24.4->gnuplot_kernel) (0.1.4)\n",
      "Requirement already satisfied: parso<0.9.0,>=0.8.3 in /home/javier/enviroments/intercom/lib/python3.10/site-packages (from jedi>=0.18->metakernel>=0.24.4->gnuplot_kernel) (0.8.3)\n",
      "Requirement already satisfied: platformdirs>=2.5 in /home/javier/enviroments/intercom/lib/python3.10/site-packages (from jupyter-core>=4.9.2->metakernel>=0.24.4->gnuplot_kernel) (3.11.0)\n",
      "Requirement already satisfied: jupyter-events>=0.6.0 in /home/javier/enviroments/intercom/lib/python3.10/site-packages (from jupyter-server<3,>=2.4.0->notebook>=5.5.0->gnuplot_kernel) (0.8.0)\n",
      "Requirement already satisfied: websocket-client in /home/javier/enviroments/intercom/lib/python3.10/site-packages (from jupyter-server<3,>=2.4.0->notebook>=5.5.0->gnuplot_kernel) (1.6.4)\n",
      "Requirement already satisfied: prometheus-client in /home/javier/enviroments/intercom/lib/python3.10/site-packages (from jupyter-server<3,>=2.4.0->notebook>=5.5.0->gnuplot_kernel) (0.17.1)\n",
      "Requirement already satisfied: anyio>=3.1.0 in /home/javier/enviroments/intercom/lib/python3.10/site-packages (from jupyter-server<3,>=2.4.0->notebook>=5.5.0->gnuplot_kernel) (4.0.0)\n",
      "Requirement already satisfied: overrides in /home/javier/enviroments/intercom/lib/python3.10/site-packages (from jupyter-server<3,>=2.4.0->notebook>=5.5.0->gnuplot_kernel) (7.4.0)\n",
      "Requirement already satisfied: nbconvert>=6.4.4 in /home/javier/enviroments/intercom/lib/python3.10/site-packages (from jupyter-server<3,>=2.4.0->notebook>=5.5.0->gnuplot_kernel) (7.9.2)\n",
      "Requirement already satisfied: send2trash>=1.8.2 in /home/javier/enviroments/intercom/lib/python3.10/site-packages (from jupyter-server<3,>=2.4.0->notebook>=5.5.0->gnuplot_kernel) (1.8.2)\n",
      "Requirement already satisfied: jinja2 in /home/javier/enviroments/intercom/lib/python3.10/site-packages (from jupyter-server<3,>=2.4.0->notebook>=5.5.0->gnuplot_kernel) (3.1.2)\n",
      "Requirement already satisfied: nbformat>=5.3.0 in /home/javier/enviroments/intercom/lib/python3.10/site-packages (from jupyter-server<3,>=2.4.0->notebook>=5.5.0->gnuplot_kernel) (5.9.2)\n",
      "Requirement already satisfied: argon2-cffi in /home/javier/enviroments/intercom/lib/python3.10/site-packages (from jupyter-server<3,>=2.4.0->notebook>=5.5.0->gnuplot_kernel) (23.1.0)\n",
      "Requirement already satisfied: jupyter-server-terminals in /home/javier/enviroments/intercom/lib/python3.10/site-packages (from jupyter-server<3,>=2.4.0->notebook>=5.5.0->gnuplot_kernel) (0.4.4)\n",
      "Requirement already satisfied: terminado>=0.8.3 in /home/javier/enviroments/intercom/lib/python3.10/site-packages (from jupyter-server<3,>=2.4.0->notebook>=5.5.0->gnuplot_kernel) (0.17.1)\n",
      "Requirement already satisfied: tomli in /home/javier/enviroments/intercom/lib/python3.10/site-packages (from jupyterlab<5,>=4.0.2->notebook>=5.5.0->gnuplot_kernel) (2.0.1)\n",
      "Requirement already satisfied: async-lru>=1.0.0 in /home/javier/enviroments/intercom/lib/python3.10/site-packages (from jupyterlab<5,>=4.0.2->notebook>=5.5.0->gnuplot_kernel) (2.0.4)\n",
      "Requirement already satisfied: jupyter-lsp>=2.0.0 in /home/javier/enviroments/intercom/lib/python3.10/site-packages (from jupyterlab<5,>=4.0.2->notebook>=5.5.0->gnuplot_kernel) (2.2.0)\n",
      "Requirement already satisfied: requests>=2.31 in /home/javier/enviroments/intercom/lib/python3.10/site-packages (from jupyterlab-server<3,>=2.22.1->notebook>=5.5.0->gnuplot_kernel) (2.31.0)\n",
      "Requirement already satisfied: json5>=0.9.0 in /home/javier/enviroments/intercom/lib/python3.10/site-packages (from jupyterlab-server<3,>=2.22.1->notebook>=5.5.0->gnuplot_kernel) (0.9.14)\n",
      "Requirement already satisfied: babel>=2.10 in /home/javier/enviroments/intercom/lib/python3.10/site-packages (from jupyterlab-server<3,>=2.22.1->notebook>=5.5.0->gnuplot_kernel) (2.13.0)\n",
      "Requirement already satisfied: jsonschema>=4.18.0 in /home/javier/enviroments/intercom/lib/python3.10/site-packages (from jupyterlab-server<3,>=2.22.1->notebook>=5.5.0->gnuplot_kernel) (4.19.1)\n",
      "Requirement already satisfied: ptyprocess>=0.5 in /home/javier/enviroments/intercom/lib/python3.10/site-packages (from pexpect>=4.8->metakernel>=0.24.4->gnuplot_kernel) (0.7.0)\n",
      "Requirement already satisfied: idna>=2.8 in /home/javier/enviroments/intercom/lib/python3.10/site-packages (from anyio>=3.1.0->jupyter-server<3,>=2.4.0->notebook>=5.5.0->gnuplot_kernel) (3.4)\n",
      "Requirement already satisfied: sniffio>=1.1 in /home/javier/enviroments/intercom/lib/python3.10/site-packages (from anyio>=3.1.0->jupyter-server<3,>=2.4.0->notebook>=5.5.0->gnuplot_kernel) (1.3.0)\n",
      "Requirement already satisfied: exceptiongroup>=1.0.2 in /home/javier/enviroments/intercom/lib/python3.10/site-packages (from anyio>=3.1.0->jupyter-server<3,>=2.4.0->notebook>=5.5.0->gnuplot_kernel) (1.1.3)\n",
      "Requirement already satisfied: typing-extensions>=4.0.0 in /home/javier/enviroments/intercom/lib/python3.10/site-packages (from async-lru>=1.0.0->jupyterlab<5,>=4.0.2->notebook>=5.5.0->gnuplot_kernel) (4.8.0)\n",
      "Requirement already satisfied: prompt-toolkit!=3.0.37,<3.1.0,>=3.0.30 in /home/javier/enviroments/intercom/lib/python3.10/site-packages (from ipython>=7.23.1->ipykernel>=5.5.6->metakernel>=0.24.4->gnuplot_kernel) (3.0.39)\n",
      "Requirement already satisfied: pickleshare in /home/javier/enviroments/intercom/lib/python3.10/site-packages (from ipython>=7.23.1->ipykernel>=5.5.6->metakernel>=0.24.4->gnuplot_kernel) (0.7.5)\n",
      "Requirement already satisfied: backcall in /home/javier/enviroments/intercom/lib/python3.10/site-packages (from ipython>=7.23.1->ipykernel>=5.5.6->metakernel>=0.24.4->gnuplot_kernel) (0.2.0)\n",
      "Requirement already satisfied: stack-data in /home/javier/enviroments/intercom/lib/python3.10/site-packages (from ipython>=7.23.1->ipykernel>=5.5.6->metakernel>=0.24.4->gnuplot_kernel) (0.6.3)\n",
      "Requirement already satisfied: decorator in /home/javier/enviroments/intercom/lib/python3.10/site-packages (from ipython>=7.23.1->ipykernel>=5.5.6->metakernel>=0.24.4->gnuplot_kernel) (5.1.1)\n",
      "Requirement already satisfied: pygments>=2.4.0 in /home/javier/enviroments/intercom/lib/python3.10/site-packages (from ipython>=7.23.1->ipykernel>=5.5.6->metakernel>=0.24.4->gnuplot_kernel) (2.16.1)\n",
      "Requirement already satisfied: MarkupSafe>=2.0 in /home/javier/enviroments/intercom/lib/python3.10/site-packages (from jinja2->jupyter-server<3,>=2.4.0->notebook>=5.5.0->gnuplot_kernel) (2.1.3)\n",
      "Requirement already satisfied: jsonschema-specifications>=2023.03.6 in /home/javier/enviroments/intercom/lib/python3.10/site-packages (from jsonschema>=4.18.0->jupyterlab-server<3,>=2.22.1->notebook>=5.5.0->gnuplot_kernel) (2023.7.1)\n",
      "Requirement already satisfied: rpds-py>=0.7.1 in /home/javier/enviroments/intercom/lib/python3.10/site-packages (from jsonschema>=4.18.0->jupyterlab-server<3,>=2.22.1->notebook>=5.5.0->gnuplot_kernel) (0.10.6)\n",
      "Requirement already satisfied: attrs>=22.2.0 in /home/javier/enviroments/intercom/lib/python3.10/site-packages (from jsonschema>=4.18.0->jupyterlab-server<3,>=2.22.1->notebook>=5.5.0->gnuplot_kernel) (23.1.0)\n",
      "Requirement already satisfied: referencing>=0.28.4 in /home/javier/enviroments/intercom/lib/python3.10/site-packages (from jsonschema>=4.18.0->jupyterlab-server<3,>=2.22.1->notebook>=5.5.0->gnuplot_kernel) (0.30.2)\n",
      "Requirement already satisfied: python-dateutil>=2.8.2 in /home/javier/enviroments/intercom/lib/python3.10/site-packages (from jupyter-client>=6.1.12->ipykernel>=5.5.6->metakernel>=0.24.4->gnuplot_kernel) (2.8.2)\n",
      "Requirement already satisfied: rfc3986-validator>=0.1.1 in /home/javier/enviroments/intercom/lib/python3.10/site-packages (from jupyter-events>=0.6.0->jupyter-server<3,>=2.4.0->notebook>=5.5.0->gnuplot_kernel) (0.1.1)\n",
      "Requirement already satisfied: python-json-logger>=2.0.4 in /home/javier/enviroments/intercom/lib/python3.10/site-packages (from jupyter-events>=0.6.0->jupyter-server<3,>=2.4.0->notebook>=5.5.0->gnuplot_kernel) (2.0.7)\n",
      "Requirement already satisfied: pyyaml>=5.3 in /home/javier/enviroments/intercom/lib/python3.10/site-packages (from jupyter-events>=0.6.0->jupyter-server<3,>=2.4.0->notebook>=5.5.0->gnuplot_kernel) (6.0.1)\n",
      "Requirement already satisfied: rfc3339-validator in /home/javier/enviroments/intercom/lib/python3.10/site-packages (from jupyter-events>=0.6.0->jupyter-server<3,>=2.4.0->notebook>=5.5.0->gnuplot_kernel) (0.1.4)\n",
      "Requirement already satisfied: beautifulsoup4 in /home/javier/enviroments/intercom/lib/python3.10/site-packages (from nbconvert>=6.4.4->jupyter-server<3,>=2.4.0->notebook>=5.5.0->gnuplot_kernel) (4.12.2)\n",
      "Requirement already satisfied: tinycss2 in /home/javier/enviroments/intercom/lib/python3.10/site-packages (from nbconvert>=6.4.4->jupyter-server<3,>=2.4.0->notebook>=5.5.0->gnuplot_kernel) (1.2.1)\n",
      "Requirement already satisfied: pandocfilters>=1.4.1 in /home/javier/enviroments/intercom/lib/python3.10/site-packages (from nbconvert>=6.4.4->jupyter-server<3,>=2.4.0->notebook>=5.5.0->gnuplot_kernel) (1.5.0)\n",
      "Requirement already satisfied: mistune<4,>=2.0.3 in /home/javier/enviroments/intercom/lib/python3.10/site-packages (from nbconvert>=6.4.4->jupyter-server<3,>=2.4.0->notebook>=5.5.0->gnuplot_kernel) (3.0.2)\n",
      "Requirement already satisfied: jupyterlab-pygments in /home/javier/enviroments/intercom/lib/python3.10/site-packages (from nbconvert>=6.4.4->jupyter-server<3,>=2.4.0->notebook>=5.5.0->gnuplot_kernel) (0.2.2)\n",
      "Requirement already satisfied: defusedxml in /home/javier/enviroments/intercom/lib/python3.10/site-packages (from nbconvert>=6.4.4->jupyter-server<3,>=2.4.0->notebook>=5.5.0->gnuplot_kernel) (0.7.1)\n",
      "Requirement already satisfied: bleach!=5.0.0 in /home/javier/enviroments/intercom/lib/python3.10/site-packages (from nbconvert>=6.4.4->jupyter-server<3,>=2.4.0->notebook>=5.5.0->gnuplot_kernel) (6.1.0)\n",
      "Requirement already satisfied: nbclient>=0.5.0 in /home/javier/enviroments/intercom/lib/python3.10/site-packages (from nbconvert>=6.4.4->jupyter-server<3,>=2.4.0->notebook>=5.5.0->gnuplot_kernel) (0.8.0)\n",
      "Requirement already satisfied: fastjsonschema in /home/javier/enviroments/intercom/lib/python3.10/site-packages (from nbformat>=5.3.0->jupyter-server<3,>=2.4.0->notebook>=5.5.0->gnuplot_kernel) (2.18.1)\n",
      "Requirement already satisfied: charset-normalizer<4,>=2 in /home/javier/enviroments/intercom/lib/python3.10/site-packages (from requests>=2.31->jupyterlab-server<3,>=2.22.1->notebook>=5.5.0->gnuplot_kernel) (3.2.0)\n",
      "Requirement already satisfied: certifi>=2017.4.17 in /home/javier/enviroments/intercom/lib/python3.10/site-packages (from requests>=2.31->jupyterlab-server<3,>=2.22.1->notebook>=5.5.0->gnuplot_kernel) (2023.7.22)\n",
      "Requirement already satisfied: urllib3<3,>=1.21.1 in /home/javier/enviroments/intercom/lib/python3.10/site-packages (from requests>=2.31->jupyterlab-server<3,>=2.22.1->notebook>=5.5.0->gnuplot_kernel) (2.0.5)\n",
      "Requirement already satisfied: argon2-cffi-bindings in /home/javier/enviroments/intercom/lib/python3.10/site-packages (from argon2-cffi->jupyter-server<3,>=2.4.0->notebook>=5.5.0->gnuplot_kernel) (21.2.0)\n",
      "Requirement already satisfied: webencodings in /home/javier/enviroments/intercom/lib/python3.10/site-packages (from bleach!=5.0.0->nbconvert>=6.4.4->jupyter-server<3,>=2.4.0->notebook>=5.5.0->gnuplot_kernel) (0.5.1)\n",
      "Requirement already satisfied: six>=1.9.0 in /home/javier/enviroments/intercom/lib/python3.10/site-packages (from bleach!=5.0.0->nbconvert>=6.4.4->jupyter-server<3,>=2.4.0->notebook>=5.5.0->gnuplot_kernel) (1.16.0)\n",
      "Requirement already satisfied: isoduration in /home/javier/enviroments/intercom/lib/python3.10/site-packages (from jsonschema>=4.18.0->jupyterlab-server<3,>=2.22.1->notebook>=5.5.0->gnuplot_kernel) (20.11.0)\n",
      "Requirement already satisfied: jsonpointer>1.13 in /home/javier/enviroments/intercom/lib/python3.10/site-packages (from jsonschema>=4.18.0->jupyterlab-server<3,>=2.22.1->notebook>=5.5.0->gnuplot_kernel) (2.4)\n",
      "Requirement already satisfied: fqdn in /home/javier/enviroments/intercom/lib/python3.10/site-packages (from jsonschema>=4.18.0->jupyterlab-server<3,>=2.22.1->notebook>=5.5.0->gnuplot_kernel) (1.5.1)\n",
      "Requirement already satisfied: webcolors>=1.11 in /home/javier/enviroments/intercom/lib/python3.10/site-packages (from jsonschema>=4.18.0->jupyterlab-server<3,>=2.22.1->notebook>=5.5.0->gnuplot_kernel) (1.13)\n",
      "Requirement already satisfied: uri-template in /home/javier/enviroments/intercom/lib/python3.10/site-packages (from jsonschema>=4.18.0->jupyterlab-server<3,>=2.22.1->notebook>=5.5.0->gnuplot_kernel) (1.3.0)\n",
      "Requirement already satisfied: wcwidth in /home/javier/enviroments/intercom/lib/python3.10/site-packages (from prompt-toolkit!=3.0.37,<3.1.0,>=3.0.30->ipython>=7.23.1->ipykernel>=5.5.6->metakernel>=0.24.4->gnuplot_kernel) (0.2.8)\n",
      "Requirement already satisfied: cffi>=1.0.1 in /home/javier/enviroments/intercom/lib/python3.10/site-packages (from argon2-cffi-bindings->argon2-cffi->jupyter-server<3,>=2.4.0->notebook>=5.5.0->gnuplot_kernel) (1.15.1)\n",
      "Requirement already satisfied: soupsieve>1.2 in /home/javier/enviroments/intercom/lib/python3.10/site-packages (from beautifulsoup4->nbconvert>=6.4.4->jupyter-server<3,>=2.4.0->notebook>=5.5.0->gnuplot_kernel) (2.5)\n",
      "Requirement already satisfied: asttokens>=2.1.0 in /home/javier/enviroments/intercom/lib/python3.10/site-packages (from stack-data->ipython>=7.23.1->ipykernel>=5.5.6->metakernel>=0.24.4->gnuplot_kernel) (2.4.0)\n",
      "Requirement already satisfied: executing>=1.2.0 in /home/javier/enviroments/intercom/lib/python3.10/site-packages (from stack-data->ipython>=7.23.1->ipykernel>=5.5.6->metakernel>=0.24.4->gnuplot_kernel) (2.0.0)\n",
      "Requirement already satisfied: pure-eval in /home/javier/enviroments/intercom/lib/python3.10/site-packages (from stack-data->ipython>=7.23.1->ipykernel>=5.5.6->metakernel>=0.24.4->gnuplot_kernel) (0.2.2)\n",
      "Requirement already satisfied: pycparser in /home/javier/enviroments/intercom/lib/python3.10/site-packages (from cffi>=1.0.1->argon2-cffi-bindings->argon2-cffi->jupyter-server<3,>=2.4.0->notebook>=5.5.0->gnuplot_kernel) (2.21)\n",
      "Requirement already satisfied: arrow>=0.15.0 in /home/javier/enviroments/intercom/lib/python3.10/site-packages (from isoduration->jsonschema>=4.18.0->jupyterlab-server<3,>=2.22.1->notebook>=5.5.0->gnuplot_kernel) (1.3.0)\n",
      "Requirement already satisfied: types-python-dateutil>=2.8.10 in /home/javier/enviroments/intercom/lib/python3.10/site-packages (from arrow>=0.15.0->isoduration->jsonschema>=4.18.0->jupyterlab-server<3,>=2.22.1->notebook>=5.5.0->gnuplot_kernel) (2.8.19.14)\n"
     ]
    }
   ],
   "source": [
    "!pip install gnuplot_kernel"
   ]
  },
  {
   "cell_type": "code",
   "execution_count": null,
   "id": "7d6c60a5-2d8c-4d01-aebd-3a0bf5682716",
   "metadata": {
    "editable": true,
    "id": "7d6c60a5-2d8c-4d01-aebd-3a0bf5682716",
    "tags": []
   },
   "outputs": [],
   "source": [
    "%reload_ext gnuplot_kernel"
   ]
  },
  {
   "cell_type": "code",
   "execution_count": null,
   "id": "0b846c18-6563-47c9-8b46-b73916102964",
   "metadata": {
    "editable": true,
    "id": "0b846c18-6563-47c9-8b46-b73916102964",
    "outputId": "dea7630c-d6ee-43fb-f4c9-4ac36ee5e8c1",
    "tags": []
   },
   "outputs": [
    {
     "data": {
      "text/plain": [
       "\n",
       "Terminal type is now 'pngcairo'\n",
       "Options are ' background \"#ffffff\" enhanced fontscale 1.0 size 385, 256 '"
      ]
     },
     "metadata": {},
     "output_type": "display_data"
    }
   ],
   "source": [
    "%%gnuplot\n",
    "set terminal pngcairo"
   ]
  },
  {
   "cell_type": "code",
   "execution_count": null,
   "id": "b771fd50-eb8c-4a69-96cc-2c706ff2686e",
   "metadata": {
    "editable": true,
    "id": "b771fd50-eb8c-4a69-96cc-2c706ff2686e",
    "outputId": "2f74eebe-bf3e-4dba-9bfd-304b0ce1c081",
    "tags": []
   },
   "outputs": [
    {
     "data": {
      "image/png": "[encoded data removed]",
      "text/plain": [
       "<IPython.core.display.Image object>"
      ]
     },
     "metadata": {},
     "output_type": "display_data"
    }
   ],
   "source": [
    "%%gnuplot\n",
    "plot '/tmp/localhost_histogram.txt' with histogram"
   ]
  },
  {
   "cell_type": "markdown",
   "id": "cd5bf464-6162-4554-bf45-09f42fc139f4",
   "metadata": {
    "editable": true,
    "id": "cd5bf464-6162-4554-bf45-09f42fc139f4",
    "tags": []
   },
   "source": [
    "5. **Caracterización de la latencia**"
   ]
  },
  {
   "cell_type": "markdown",
   "id": "06c2d1b2-baf5-4c3a-92ee-35819a95754f",
   "metadata": {
    "editable": true,
    "id": "06c2d1b2-baf5-4c3a-92ee-35819a95754f",
    "tags": []
   },
   "source": [
    "Según el grafico obtenido, podemos determinar que se trata de una distribución normal."
   ]
  },
  {
   "cell_type": "code",
   "execution_count": null,
   "id": "de442b20-41f5-44a7-be42-2704d33ce25b",
   "metadata": {
    "editable": true,
    "id": "de442b20-41f5-44a7-be42-2704d33ce25b",
    "outputId": "4242d849-54f2-4c23-d116-aa01b670227f",
    "tags": []
   },
   "outputs": [
    {
     "data": {
      "image/png": "[encoded data removed]",
      "text/plain": [
       "<Figure size 640x480 with 1 Axes>"
      ]
     },
     "metadata": {},
     "output_type": "display_data"
    }
   ],
   "source": [
    "import numpy as np\n",
    "from scipy import stats\n",
    "import matplotlib.pyplot as plt\n",
    "\n",
    "# Graficando Distrobución Normal\n",
    "mu, sigma = 0, 0.2 # media y desvio estandar\n",
    "normal = stats.norm(mu, sigma)\n",
    "x = np.linspace(normal.ppf(0.01),\n",
    "                normal.ppf(0.99),20)\n",
    "fp = normal.pdf(x) # Función de Probabilidad\n",
    "plt.plot(x, fp, '--')\n",
    "plt.vlines(x, 0, fp, colors='b', lw=5, alpha=0.5)\n",
    "plt.title('Distribución Normal')\n",
    "plt.show()"
   ]
  },
  {
   "cell_type": "markdown",
   "id": "1922c332-0f8b-4975-8ee7-665c34e72cc0",
   "metadata": {
    "editable": true,
    "id": "1922c332-0f8b-4975-8ee7-665c34e72cc0",
    "tags": []
   },
   "source": [
    "### **En Internet:**"
   ]
  },
  {
   "cell_type": "markdown",
   "id": "5a50394c-8511-4d39-997d-021398302664",
   "metadata": {
    "editable": true,
    "id": "5a50394c-8511-4d39-997d-021398302664",
    "tags": []
   },
   "source": [
    "Repetimos el experimento anterior para obtener la sumatoria de latencias desde tu PC hasta la IP privada de tu NAT y desde el pc de tu compañero a la IP publica de tu NAT."
   ]
  },
  {
   "cell_type": "markdown",
   "id": "2e51e996-ac54-4736-ad5f-1aac3366ead4",
   "metadata": {
    "editable": true,
    "id": "2e51e996-ac54-4736-ad5f-1aac3366ead4",
    "tags": []
   },
   "source": [
    "1. **Obtenemos la IP publica del NAT**"
   ]
  },
  {
   "cell_type": "code",
   "execution_count": null,
   "id": "6a2939b7-4930-4765-b649-aae82f82c4a7",
   "metadata": {
    "editable": true,
    "id": "6a2939b7-4930-4765-b649-aae82f82c4a7",
    "outputId": "a7e6d65c-539a-4fa7-fbac-7c3318bf1413",
    "tags": []
   },
   "outputs": [
    {
     "name": "stdout",
     "output_type": "stream",
     "text": [
      "217.216.183.232"
     ]
    }
   ],
   "source": [
    "!curl ipecho.net/plain"
   ]
  },
  {
   "cell_type": "markdown",
   "id": "8acde470-dd47-43b7-81b6-66a36f9ac49a",
   "metadata": {
    "editable": true,
    "id": "8acde470-dd47-43b7-81b6-66a36f9ac49a",
    "tags": []
   },
   "source": [
    "2. **Nuestro compañero nos da la IP publica de su router y ejecutamos el siguiente comando para obtener latencias**"
   ]
  },
  {
   "cell_type": "code",
   "execution_count": null,
   "id": "6f99ea3a-791e-4d5c-b14e-382b663cbd98",
   "metadata": {
    "editable": true,
    "id": "6f99ea3a-791e-4d5c-b14e-382b663cbd98",
    "tags": []
   },
   "outputs": [],
   "source": [
    "!ping 85.60.199.122 -c 1000 -s 4096 > /tmp/85.60.199.122_latencies.txt"
   ]
  },
  {
   "cell_type": "markdown",
   "id": "e6f83c5a-d5e9-4f31-aaae-d1385e89e45e",
   "metadata": {
    "editable": true,
    "id": "e6f83c5a-d5e9-4f31-aaae-d1385e89e45e",
    "tags": []
   },
   "source": [
    "3. **Obtenemos las latencias de nuestro PC hacia nuestro NAT usando su IP privada**"
   ]
  },
  {
   "cell_type": "code",
   "execution_count": null,
   "id": "37d74130-ac83-429e-84d7-2569aab8516c",
   "metadata": {
    "editable": true,
    "id": "37d74130-ac83-429e-84d7-2569aab8516c",
    "tags": []
   },
   "outputs": [],
   "source": [
    "!ping 192.168.0.1 -c 1000 -s 4096 > /tmp/192.168.0.1_latencies.txt"
   ]
  },
  {
   "cell_type": "markdown",
   "id": "64ef345a-58a6-4816-8f38-212c3526019d",
   "metadata": {
    "editable": true,
    "id": "64ef345a-58a6-4816-8f38-212c3526019d",
    "tags": []
   },
   "source": [
    "4. **Almacenamos las latencias**"
   ]
  },
  {
   "cell_type": "code",
   "execution_count": null,
   "id": "ffecfc3d-40b6-4155-b0b7-c436b4038cd6",
   "metadata": {
    "editable": true,
    "id": "ffecfc3d-40b6-4155-b0b7-c436b4038cd6",
    "tags": []
   },
   "outputs": [],
   "source": [
    "%%bash\n",
    "export LC\\_NUMERIC=en\\_US.UTF-8 # Use \".\" instead of \",\" for the decimal separator\n",
    "grep from < /tmp/85.60.199.122_latencies.txt | cut -f 4 -d \"=\" | cut -f 1 -d \" \" | awk '{print $1/2}' > /tmp/pubip_latencies.txt"
   ]
  },
  {
   "cell_type": "code",
   "execution_count": null,
   "id": "0e7e890e-2bd0-4b18-beaa-ea6ccea5ad7a",
   "metadata": {
    "editable": true,
    "id": "0e7e890e-2bd0-4b18-beaa-ea6ccea5ad7a",
    "scrolled": true,
    "tags": []
   },
   "outputs": [],
   "source": [
    "%%bash\n",
    "export LC\\_NUMERIC=en\\_US.UTF-8 # Use \".\" instead of \",\" for the decimal separator\n",
    "grep from < /tmp/192.168.0.1_latencies.txt | cut -f 4 -d \"=\" | cut -f 1 -d \" \" | awk '{print $1/2}' > /tmp/privip_latencies.txt"
   ]
  },
  {
   "cell_type": "code",
   "execution_count": null,
   "id": "9ead8c16-da00-4ff4-aed0-852e33c4a952",
   "metadata": {
    "id": "9ead8c16-da00-4ff4-aed0-852e33c4a952"
   },
   "outputs": [],
   "source": [
    "!paste /tmp/pubip_latencies.txt /tmp/privip_latencies.txt | awk '{print $1+$2}' > /tmp/add.txt"
   ]
  },
  {
   "cell_type": "markdown",
   "id": "89567f16-2f1b-4cfd-b4f8-3f6e93b93f0c",
   "metadata": {
    "editable": true,
    "id": "89567f16-2f1b-4cfd-b4f8-3f6e93b93f0c",
    "tags": []
   },
   "source": [
    "5. **Encontramos el histograma relacionado con las latencias esperadas**"
   ]
  },
  {
   "cell_type": "code",
   "execution_count": null,
   "id": "64504305-337b-489a-b4c3-d6a0c178421b",
   "metadata": {
    "editable": true,
    "id": "64504305-337b-489a-b4c3-d6a0c178421b",
    "outputId": "0abdcb0a-f87d-4a19-893e-26263e6b7517",
    "tags": []
   },
   "outputs": [
    {
     "name": "stdout",
     "output_type": "stream",
     "text": [
      "\n",
      "average latency = 21.815\n",
      "maximum absolute deviation (jitter) = 9.184999999999999\n",
      "Pearson correlation coefficient = 0.0972400643669457\n"
     ]
    }
   ],
   "source": [
    "import numpy as np\n",
    "from scipy import stats\n",
    "latencies = np.loadtxt(\"/tmp/add.txt\")\n",
    "average_latency = np.average(latencies)\n",
    "print(\"\\naverage latency =\", average_latency)\n",
    "max_latency = np.max(latencies)\n",
    "min_latency = np.min(latencies)\n",
    "maximum_absolute_deviation = max(max_latency - average_latency, average_latency - min_latency)\n",
    "print(\"maximum absolute deviation (jitter) =\", maximum_absolute_deviation)\n",
    "correlation_coefficient = stats.pearsonr(latencies, np.roll(latencies, 1))[0]\n",
    "print(\"Pearson correlation coefficient =\", correlation_coefficient)\n",
    "if correlation_coefficient < 0:\n",
    "  print(\"Correlation coefficient < 0: use 0 (no correlation between RTT samples) in your experiments\")\n",
    "histogram = np.histogram(latencies)\n",
    "np.savetxt(\"/tmp/add_histogram.txt\", histogram[0])"
   ]
  },
  {
   "cell_type": "markdown",
   "id": "7b6be3fb-6c0c-420c-acc4-622fe7b9f4c8",
   "metadata": {
    "editable": true,
    "id": "7b6be3fb-6c0c-420c-acc4-622fe7b9f4c8",
    "tags": []
   },
   "source": [
    "**El resultado obtenido ha sido:**\n",
    "\n",
    "average latency = 24.416510000000002\n",
    "\n",
    "maximum absolute deviation (jitter) = 10.22999\n",
    "\n",
    "Pearson correlation coefficient = 0.0830926462942798"
   ]
  },
  {
   "cell_type": "markdown",
   "id": "7fc80cd4-e14a-4e4b-8eb8-0623b12b765b",
   "metadata": {
    "editable": true,
    "id": "7fc80cd4-e14a-4e4b-8eb8-0623b12b765b",
    "tags": []
   },
   "source": [
    "6. **Trazamos el histograma**"
   ]
  },
  {
   "cell_type": "code",
   "execution_count": null,
   "id": "c4773629-1b9b-44d5-ac12-222ff741fa64",
   "metadata": {
    "editable": true,
    "id": "c4773629-1b9b-44d5-ac12-222ff741fa64",
    "tags": []
   },
   "outputs": [],
   "source": [
    "%reload_ext gnuplot_kernel"
   ]
  },
  {
   "cell_type": "code",
   "execution_count": null,
   "id": "0379ec88-6c24-4c02-b616-346c077a236c",
   "metadata": {
    "editable": true,
    "id": "0379ec88-6c24-4c02-b616-346c077a236c",
    "outputId": "21217510-45c1-4ac5-d7c5-ffdf797b353a",
    "tags": []
   },
   "outputs": [
    {
     "data": {
      "text/plain": [
       "\n",
       "Terminal type is now 'pngcairo'\n",
       "Options are ' background \"#ffffff\" enhanced fontscale 1.0 size 385, 256 '"
      ]
     },
     "metadata": {},
     "output_type": "display_data"
    }
   ],
   "source": [
    "%%gnuplot\n",
    "set terminal pngcairo\n",
    "set output 'graficoIP.png'"
   ]
  },
  {
   "cell_type": "code",
   "execution_count": null,
   "id": "3547ac4c-acf2-4e28-a7b0-6d70960a1066",
   "metadata": {
    "editable": true,
    "id": "3547ac4c-acf2-4e28-a7b0-6d70960a1066",
    "outputId": "54fd29e4-6dd6-4787-b1a6-5c123439f05d",
    "scrolled": true,
    "tags": []
   },
   "outputs": [
    {
     "data": {
      "image/png": "[encoded data removed]",
      "text/plain": [
       "<IPython.core.display.Image object>"
      ]
     },
     "metadata": {},
     "output_type": "display_data"
    }
   ],
   "source": [
    "%%gnuplot\n",
    "plot '/tmp/add_histogram.txt' with histogram"
   ]
  },
  {
   "cell_type": "markdown",
   "id": "8b8457a2-6455-429c-a484-e21c0330e6d3",
   "metadata": {
    "editable": true,
    "id": "8b8457a2-6455-429c-a484-e21c0330e6d3",
    "tags": []
   },
   "source": [
    "7. **Caracterización de la latencia**"
   ]
  },
  {
   "cell_type": "markdown",
   "id": "05f3d982-c0cb-4f2b-b38e-ec4a30c5f020",
   "metadata": {
    "editable": true,
    "id": "05f3d982-c0cb-4f2b-b38e-ec4a30c5f020",
    "tags": []
   },
   "source": [
    "Según el grafico obtenido, podemos determinar que se trata de una distribución **pareto**."
   ]
  },
  {
   "cell_type": "code",
   "execution_count": null,
   "id": "2241a95b-c94f-461a-926c-4da40cea4f81",
   "metadata": {
    "editable": true,
    "id": "2241a95b-c94f-461a-926c-4da40cea4f81",
    "outputId": "7d993804-67c6-40fd-afba-a4fdf1d3e6c7",
    "tags": []
   },
   "outputs": [
    {
     "data": {
      "image/png": "[encoded data removed]",
      "text/plain": [
       "<Figure size 640x480 with 1 Axes>"
      ]
     },
     "metadata": {},
     "output_type": "display_data"
    }
   ],
   "source": [
    "import numpy as np\n",
    "from scipy.stats import pareto\n",
    "import matplotlib.pyplot as plt\n",
    "\n",
    "# Parámetros de la distribución de Pareto\n",
    "alpha = 3.5  # Parámetro de forma\n",
    "xmin = 1      # Valor mínimo\n",
    "\n",
    "# Distribución de Pareto\n",
    "pareto_dist = pareto(alpha, scale=xmin)\n",
    "\n",
    "# Generar datos según la distribución de Pareto\n",
    "data_pareto = pareto_dist.rvs(size=1000)\n",
    "\n",
    "# Crear histograma con barras más anchas y espacio entre ellas\n",
    "plt.hist(data_pareto, bins=np.arange(0, 10, 0.2), density=True, alpha=0.7, color='blue', edgecolor='black', linewidth=1)\n",
    "\n",
    "# Graficar la distribución de Pareto\n",
    "x = np.linspace(xmin, 10, 1000)\n",
    "pareto_pdf = pareto_dist.pdf(x)\n",
    "plt.plot(x, pareto_pdf, label=f'Pareto, alpha={alpha}, xmin={xmin}', linewidth=2)\n",
    "\n",
    "# Configurar título y etiquetas\n",
    "plt.title('Distribución de Pareto con Histograma')\n",
    "plt.xlabel('Valores')\n",
    "plt.ylabel('Densidad de probabilidad')\n",
    "plt.legend()\n",
    "\n",
    "# Mostrar la gráfica\n",
    "plt.show()"
   ]
  },
  {
   "cell_type": "markdown",
   "id": "1706cfa6-b8b8-4402-830d-c48893ace23d",
   "metadata": {
    "editable": true,
    "id": "1706cfa6-b8b8-4402-830d-c48893ace23d",
    "tags": []
   },
   "source": [
    "## **Clasificación de QoE**"
   ]
  },
  {
   "cell_type": "markdown",
   "id": "828697de-260b-433c-8265-c7b3e3c4a2ae",
   "metadata": {
    "editable": true,
    "id": "828697de-260b-433c-8265-c7b3e3c4a2ae",
    "tags": []
   },
   "source": [
    "### **En tu host:**"
   ]
  },
  {
   "cell_type": "markdown",
   "id": "c6550933-2ce7-4b52-bcdc-fc58c5d7a17c",
   "metadata": {
    "editable": true,
    "id": "c6550933-2ce7-4b52-bcdc-fc58c5d7a17c",
    "tags": []
   },
   "source": [
    "Tras ejecutar:"
   ]
  },
  {
   "cell_type": "code",
   "execution_count": null,
   "id": "cb1123cb-ddf2-4546-b327-2221d5eaf8f2",
   "metadata": {
    "editable": true,
    "id": "cb1123cb-ddf2-4546-b327-2221d5eaf8f2",
    "outputId": "a7a3b03d-0572-443f-d940-e23d7728dc53",
    "tags": []
   },
   "outputs": [
    {
     "name": "stdout",
     "output_type": "stream",
     "text": [
      "(INFO) minimal: A minimal InterCom (no compression, no quantization, no transform, ... only provides a bidirectional (full-duplex) transmission of raw (playable) chunks. \n",
      "(INFO) minimal: NUMBER_OF_CHANNELS = 2\n",
      "(INFO) minimal: chunk_time = 0.023219954648526078 seconds\n",
      "(INFO) minimal: Press enter-key to quit\n",
      "^C\n",
      "\n",
      "SIGINT received\n"
     ]
    }
   ],
   "source": [
    "!python3 ~/Escritorio/NAT/minimal.py"
   ]
  },
  {
   "cell_type": "markdown",
   "id": "348b516f-85be-42c9-8315-4345cc962edc",
   "metadata": {
    "editable": true,
    "id": "348b516f-85be-42c9-8315-4345cc962edc",
    "tags": []
   },
   "source": [
    "Podemos determinar que la la comunicación es **Aceptable**. Se notan los efectos de la latencia, además del eco, sin embargo, la comunicación es fluida. Si no establecemos volumenes demasiado altos no se produce ese desabradable sonido donde se acopla el audio."
   ]
  },
  {
   "cell_type": "markdown",
   "id": "c9475bb4-a741-4bbc-b8ea-556d289f0189",
   "metadata": {
    "editable": true,
    "id": "c9475bb4-a741-4bbc-b8ea-556d289f0189",
    "tags": []
   },
   "source": [
    "### **En Internet**"
   ]
  },
  {
   "cell_type": "markdown",
   "id": "98bc56b3-75f0-4610-a1df-799c0f0f6dd0",
   "metadata": {
    "editable": true,
    "id": "98bc56b3-75f0-4610-a1df-799c0f0f6dd0",
    "tags": []
   },
   "source": [
    "Para obtener la ip y el puerto necesario, ejecutamos:"
   ]
  },
  {
   "cell_type": "code",
   "execution_count": null,
   "id": "0a9254ab-844e-4f2b-9190-11eeec0657f7",
   "metadata": {
    "editable": true,
    "id": "0a9254ab-844e-4f2b-9190-11eeec0657f7",
    "outputId": "c7bd732d-5ff2-47b1-c33e-bf69ea3104ff",
    "tags": []
   },
   "outputs": [
    {
     "name": "stdout",
     "output_type": "stream",
     "text": [
      "Puerto Externo: 54320, IP Externa: 217.216.183.232, End-Point: 217.216.183.232:54320, Tipo de NAT: Full Cone\n",
      "Puerto Externo: 54320, IP Externa: 217.216.183.232, End-Point: 217.216.183.232:54320, Tipo de NAT: Full Cone\n",
      "Puerto Externo: 54320, IP Externa: 217.216.183.232, End-Point: 217.216.183.232:54320, Tipo de NAT: Full Cone\n",
      "Puerto Externo: 54320, IP Externa: 217.216.183.232, End-Point: 217.216.183.232:54320, Tipo de NAT: Restric NAT\n",
      "Puerto Externo: 54320, IP Externa: 217.216.183.232, End-Point: 217.216.183.232:54320, Tipo de NAT: Restric NAT\n",
      "Puerto Externo: 54320, IP Externa: 217.216.183.232, End-Point: 217.216.183.232:54320, Tipo de NAT: Restric NAT\n",
      "NAT abierto (Full Cone)\n",
      "Puede establecer conexion con otro dispositivo. Para ello ejecute el siguiente comando: python3 NAT-traversal -l 'puerto de escucha' -a 'ip de destino' -p 'puerto de destino'\n"
     ]
    }
   ],
   "source": [
    "import os\n",
    "os.chdir('/home/javier/Escritorio/NAT')\n",
    "!python3 NAT_traversal.py"
   ]
  },
  {
   "cell_type": "markdown",
   "id": "0b27e3cd-891c-413b-8525-5afa726b7b85",
   "metadata": {
    "editable": true,
    "id": "0b27e3cd-891c-413b-8525-5afa726b7b85",
    "tags": []
   },
   "source": [
    "Tras esto, intercambiamos datos con otra persona y ejecutamos en ambos dispositivos:\n",
    "\n",
    "**python3 NAT_traversal.py -l *puerto_de_escucha* -a *ip_de_destino* -p *puerto_de_destino*.**"
   ]
  },
  {
   "cell_type": "code",
   "execution_count": null,
   "id": "32856164-b228-4961-9da5-5f35517bedea",
   "metadata": {
    "editable": true,
    "id": "32856164-b228-4961-9da5-5f35517bedea",
    "outputId": "526472ba-f7de-46d7-92c7-6bc54c24c96d",
    "scrolled": true,
    "tags": []
   },
   "outputs": [
    {
     "name": "stdout",
     "output_type": "stream",
     "text": [
      "(INFO) minimal: A minimal InterCom (no compression, no quantization, no transform, ... only provides a bidirectional (full-duplex) transmission of raw (playable) chunks. \n",
      "(INFO) minimal: NUMBER_OF_CHANNELS = 2\n",
      "(INFO) minimal: chunk_time = 0.023219954648526078 seconds\n",
      "(INFO) NAT_traversal: A minimal InterCom (no compression, no quantization, no transform, ... only provides a bidirectional (full-duplex) transmission of raw (playable) chunks. \n",
      "(INFO) minimal: Press enter-key to quit\n",
      "^C\n",
      "\n",
      "SIGINT received\n"
     ]
    }
   ],
   "source": [
    "import os\n",
    "os.chdir('/home/javier/Escritorio/NAT')\n",
    "!python3 NAT_traversal.py -l 54320 -a 85.60.199.122 -p 54320"
   ]
  },
  {
   "cell_type": "markdown",
   "id": "019e3ce8-3ac3-4698-b219-3f94a22b98cd",
   "metadata": {
    "editable": true,
    "id": "019e3ce8-3ac3-4698-b219-3f94a22b98cd",
    "jp-MarkdownHeadingCollapsed": true,
    "tags": []
   },
   "source": [
    "Después de producirse la comunicación, podemos determinar que la QoE es **Buena**. Se entiende bien a los interlocutores aunque se produzca eco."
   ]
  },
  {
   "cell_type": "markdown",
   "id": "d47d6219-9775-44c1-bd6f-e27c46afa71e",
   "metadata": {
    "editable": true,
    "id": "d47d6219-9775-44c1-bd6f-e27c46afa71e",
    "tags": []
   },
   "source": [
    "### **En tu host, pero simulando Internet**"
   ]
  },
  {
   "cell_type": "markdown",
   "id": "7110dde1-485e-4698-8445-d017a9f69fe9",
   "metadata": {
    "editable": true,
    "id": "7110dde1-485e-4698-8445-d017a9f69fe9",
    "tags": []
   },
   "source": [
    "1. **Comprobamos la configuración actual**"
   ]
  },
  {
   "cell_type": "code",
   "execution_count": null,
   "id": "0f8a7db6-f99b-4c8d-98b7-0a8d8a774f7b",
   "metadata": {
    "editable": true,
    "id": "0f8a7db6-f99b-4c8d-98b7-0a8d8a774f7b",
    "outputId": "0d5d58c7-dd48-45ed-d4eb-b3d5ec2fad40",
    "tags": []
   },
   "outputs": [
    {
     "name": "stdout",
     "output_type": "stream",
     "text": [
      "qdisc noqueue 0: root refcnt 2 \n"
     ]
    }
   ],
   "source": [
    "!tc qdisc show dev lo"
   ]
  },
  {
   "cell_type": "markdown",
   "id": "029fdec4-8a99-4fae-8742-34dffa1defdd",
   "metadata": {
    "editable": true,
    "id": "029fdec4-8a99-4fae-8742-34dffa1defdd",
    "tags": []
   },
   "source": [
    "2. **Modificamos la configuración para similar la latencia**"
   ]
  },
  {
   "cell_type": "code",
   "execution_count": null,
   "id": "d2d23eec-6fa2-4f84-a551-73b72f043c3d",
   "metadata": {
    "editable": true,
    "id": "d2d23eec-6fa2-4f84-a551-73b72f043c3d",
    "tags": []
   },
   "outputs": [],
   "source": [
    "!pkexec tc qdisc add dev lo root netem delay 24ms 10ms 8% distribution normal"
   ]
  },
  {
   "cell_type": "markdown",
   "id": "f89a338c-decc-4ff0-bb22-430e9fe1cb43",
   "metadata": {
    "editable": true,
    "id": "f89a338c-decc-4ff0-bb22-430e9fe1cb43",
    "tags": []
   },
   "source": [
    "3. **Comprobamos el funcionamiento de minimal**"
   ]
  },
  {
   "cell_type": "code",
   "execution_count": null,
   "id": "7a56d36b-6bff-4476-b5a3-2ecbbc1f0b14",
   "metadata": {
    "editable": true,
    "id": "7a56d36b-6bff-4476-b5a3-2ecbbc1f0b14",
    "outputId": "083d5026-fea5-4098-e08a-6db43c2fffc5",
    "tags": []
   },
   "outputs": [
    {
     "name": "stdout",
     "output_type": "stream",
     "text": [
      "(INFO) minimal: A minimal InterCom (no compression, no quantization, no transform, ... only provides a bidirectional (full-duplex) transmission of raw (playable) chunks. \n",
      "(INFO) minimal: NUMBER_OF_CHANNELS = 2\n",
      "(INFO) minimal: chunk_time = 0.023219954648526078 seconds\n",
      "(INFO) minimal: Press enter-key to quit\n",
      "^C\n",
      "\n",
      "SIGINT received\n"
     ]
    }
   ],
   "source": [
    "!python3 ~/Escritorio/NAT/minimal.py"
   ]
  },
  {
   "cell_type": "markdown",
   "id": "f05e443e-c85c-48c3-8b12-21334c72164d",
   "metadata": {
    "editable": true,
    "id": "f05e443e-c85c-48c3-8b12-21334c72164d",
    "tags": []
   },
   "source": [
    "4. **Eliminamos la regla tc**"
   ]
  },
  {
   "cell_type": "code",
   "execution_count": null,
   "id": "0b483902-b759-42a4-b4b7-1948d4dd3ef2",
   "metadata": {
    "editable": true,
    "id": "0b483902-b759-42a4-b4b7-1948d4dd3ef2",
    "outputId": "6717fc86-c3c6-4de6-d400-a5f7c75642b5",
    "tags": []
   },
   "outputs": [
    {
     "name": "stdout",
     "output_type": "stream",
     "text": [
      "Error: Invalid qdisc name.\n"
     ]
    }
   ],
   "source": [
    "!pkexec tc qdisc delete dev lo root netem delay 24ms 10ms 8% distribution normal"
   ]
  },
  {
   "cell_type": "markdown",
   "id": "a0bd4b94-56ca-47f5-84f8-2ea2b905bd14",
   "metadata": {
    "editable": true,
    "id": "a0bd4b94-56ca-47f5-84f8-2ea2b905bd14",
    "tags": []
   },
   "source": [
    "5. **Modificamos la regla tc**"
   ]
  },
  {
   "cell_type": "code",
   "execution_count": null,
   "id": "d2b22447-287e-45d0-a08b-5546668b46bc",
   "metadata": {
    "editable": true,
    "id": "d2b22447-287e-45d0-a08b-5546668b46bc",
    "tags": []
   },
   "outputs": [],
   "source": [
    "!pkexec tc qdisc change dev lo root netem delay 600ms 10ms 8% distribution normal"
   ]
  },
  {
   "cell_type": "code",
   "execution_count": null,
   "id": "95f8613e-d19c-44cf-aefa-92383fd38076",
   "metadata": {
    "editable": true,
    "id": "95f8613e-d19c-44cf-aefa-92383fd38076",
    "tags": []
   },
   "outputs": [],
   "source": [
    "!pkexec tc qdisc delete dev lo root netem delay 600ms 10ms 8% distribution normal"
   ]
  },
  {
   "cell_type": "markdown",
   "id": "c04d08ca-3a39-4def-bf31-867a01c6a78c",
   "metadata": {
    "editable": true,
    "id": "c04d08ca-3a39-4def-bf31-867a01c6a78c",
    "tags": []
   },
   "source": [
    "Podemos determinar que la la comunicación es **Aceptable**. Se notan los efectos de la latencia, además del eco, sin embargo, la comunicación es fluida. Si no establecemos volumenes demasiado altos no se produce ese desabradable sonido donde se acopla el audio."
   ]
  },
  {
   "cell_type": "markdown",
   "id": "1151da92-84ec-4e59-b1f1-f10c5e9cfd7e",
   "metadata": {
    "editable": true,
    "id": "1151da92-84ec-4e59-b1f1-f10c5e9cfd7e",
    "tags": []
   },
   "source": [
    "## **Clasificación QoE considerando perdida de paquetes**"
   ]
  },
  {
   "cell_type": "markdown",
   "id": "94901fca-81d2-4538-92a4-a2a7974c5d2f",
   "metadata": {
    "editable": true,
    "id": "94901fca-81d2-4538-92a4-a2a7974c5d2f",
    "tags": []
   },
   "source": [
    "1. **Configuramos la perdida de paquetes**"
   ]
  },
  {
   "cell_type": "code",
   "execution_count": null,
   "id": "4a53d3d3-03dc-423b-a612-eb5d450db997",
   "metadata": {
    "editable": true,
    "id": "4a53d3d3-03dc-423b-a612-eb5d450db997",
    "tags": []
   },
   "outputs": [],
   "source": [
    "!pkexec tc qdisc add dev wlp0s20f3 root netem loss 10%"
   ]
  },
  {
   "cell_type": "markdown",
   "id": "f8934efe-4a4f-438a-8f5f-949be56874dd",
   "metadata": {
    "editable": true,
    "id": "f8934efe-4a4f-438a-8f5f-949be56874dd",
    "tags": []
   },
   "source": [
    "2. **Comprobamos el funcionamiento de minimal**"
   ]
  },
  {
   "cell_type": "code",
   "execution_count": null,
   "id": "5e8a5695-80ef-44ba-b91c-ec775893de2a",
   "metadata": {
    "editable": true,
    "id": "5e8a5695-80ef-44ba-b91c-ec775893de2a",
    "tags": []
   },
   "outputs": [],
   "source": [
    "import os\n",
    "os.chdir('/home/javier/Escritorio/NAT')\n",
    "!python3 NAT_traversal.py -l 54320 -a 85.60.199.122 -p 54320"
   ]
  },
  {
   "cell_type": "markdown",
   "id": "20ad4b27-3bf0-4a9f-9068-f70c1fd55be8",
   "metadata": {
    "editable": true,
    "id": "20ad4b27-3bf0-4a9f-9068-f70c1fd55be8",
    "tags": []
   },
   "source": [
    "3. **Eliminamos la configuración**"
   ]
  },
  {
   "cell_type": "code",
   "execution_count": null,
   "id": "c6233cff-3306-4763-ba5d-9c93b06be766",
   "metadata": {
    "editable": true,
    "id": "c6233cff-3306-4763-ba5d-9c93b06be766",
    "tags": []
   },
   "outputs": [],
   "source": [
    "!pkexec tc qdisc delete dev wlp0s20f3 root netem loss 10%"
   ]
  },
  {
   "cell_type": "markdown",
   "id": "55d8b2b5-f5eb-49fa-a9f1-73e01add82c6",
   "metadata": {
    "editable": true,
    "id": "55d8b2b5-f5eb-49fa-a9f1-73e01add82c6",
    "tags": []
   },
   "source": [
    "Ejecutando los comandos anteriores, podemos determinar que la comunicación con perdida de paquetes es **Regular (Bad)**."
   ]
  },
  {
   "cell_type": "markdown",
   "id": "06ca1299-f270-4088-ac99-d5c003e8b10c",
   "metadata": {
    "editable": true,
    "id": "06ca1299-f270-4088-ac99-d5c003e8b10c",
    "tags": []
   },
   "source": [
    "## **Control del tamaño del Buffer en InterCom**"
   ]
  },
  {
   "cell_type": "markdown",
   "id": "9458aff7-3dc1-49fc-aef1-6642ec3ad13f",
   "metadata": {
    "editable": true,
    "id": "9458aff7-3dc1-49fc-aef1-6642ec3ad13f",
    "tags": []
   },
   "source": [
    "Para saber que tiempo de buffering debemos usar para esconder el jitter hemos realizado una serie de experimentos."
   ]
  },
  {
   "cell_type": "code",
   "execution_count": null,
   "id": "013fdffa-fe6b-41c1-a538-bc41aa341ae5",
   "metadata": {
    "editable": true,
    "id": "013fdffa-fe6b-41c1-a538-bc41aa341ae5",
    "outputId": "b2f98f04-cd78-474c-861f-eadfcefde3d3",
    "tags": []
   },
   "outputs": [
    {
     "name": "stdout",
     "output_type": "stream",
     "text": [
      "(INFO) minimal: A minimal InterCom (no compression, no quantization, no transform, ... only provides a bidirectional (full-duplex) transmission of raw (playable) chunks. \n",
      "(INFO) minimal: NUMBER_OF_CHANNELS = 2\n",
      "(INFO) minimal: chunk_time = 0.023219954648526078 seconds\n",
      "(INFO) buffer: Over minimal, implements a random access buffer structure for hiding the jitter.\n",
      "(INFO) buffer: buffering_time = 10 miliseconds\n",
      "(INFO) buffer: chunks_to_buffer = 1\n",
      "(INFO) buffer: Press CTRL+c to quit\n",
      "^C\n",
      "\n",
      "SIGINT received\n"
     ]
    }
   ],
   "source": [
    "import os\n",
    "os.chdir('/home/javier/Escritorio/NAT')\n",
    "!python3 buffer.py -l 54320 -a 85.60.199.122 -p 54320 -b 10"
   ]
  },
  {
   "cell_type": "code",
   "execution_count": null,
   "id": "ff25de3b-df11-42e2-8747-1cec5f461d33",
   "metadata": {
    "editable": true,
    "id": "ff25de3b-df11-42e2-8747-1cec5f461d33",
    "tags": []
   },
   "outputs": [],
   "source": [
    "import os\n",
    "os.chdir('/home/javier/Escritorio/NAT')\n",
    "!python3 buffer.py -l 54320 -a 85.60.199.122 -p 54320 -b 50"
   ]
  },
  {
   "cell_type": "code",
   "execution_count": null,
   "id": "c3516e99-772d-4ba3-942d-cdeb4f7105b9",
   "metadata": {
    "editable": true,
    "id": "c3516e99-772d-4ba3-942d-cdeb4f7105b9",
    "tags": []
   },
   "outputs": [],
   "source": [
    "import os\n",
    "os.chdir('/home/javier/Escritorio/NAT')\n",
    "!python3 buffer.py -l 54320 -a 85.60.199.122 -p 54320 -b 60"
   ]
  },
  {
   "cell_type": "code",
   "execution_count": null,
   "id": "6f77a6b6-4dfd-49c2-bfc0-121f5d557a08",
   "metadata": {
    "editable": true,
    "id": "6f77a6b6-4dfd-49c2-bfc0-121f5d557a08",
    "tags": []
   },
   "outputs": [],
   "source": [
    "import os\n",
    "os.chdir('/home/javier/Escritorio/NAT')\n",
    "!python3 buffer.py -l 54320 -a 85.60.199.122 -p 54320 -b 80"
   ]
  },
  {
   "cell_type": "markdown",
   "id": "2018bffa-2645-4e98-9d02-f74c9ca00d78",
   "metadata": {
    "editable": true,
    "id": "2018bffa-2645-4e98-9d02-f74c9ca00d78",
    "tags": []
   },
   "source": [
    "Tras esto, determinamos que un tiempo de buffering de **60ms** es ideal para que la comunicación sea buena. Sin embargo, **50ms** es el tiempo minimo encontrado donde la comunicación es acceptable y se elimina el problema de jitter."
   ]
  },
  {
   "cell_type": "markdown",
   "id": "d73be73a-daef-4401-a255-e038c9d8fac9",
   "metadata": {
    "editable": true,
    "id": "d73be73a-daef-4401-a255-e038c9d8fac9",
    "tags": []
   },
   "source": [
    "## **Creación del modulo NAT_Traversal**"
   ]
  },
  {
   "cell_type": "markdown",
   "id": "e27f20a9-d070-4611-b6eb-25b649c67824",
   "metadata": {
    "editable": true,
    "id": "e27f20a9-d070-4611-b6eb-25b649c67824",
    "tags": []
   },
   "source": [
    "Hemos modificado el codigo de **buffer.py** para que herede de NAT_Traversal y no de minimal. El resultado es el siguiente:"
   ]
  },
  {
   "cell_type": "code",
   "execution_count": null,
   "id": "7e711289-8583-455b-bce5-53fd64fab0be",
   "metadata": {
    "editable": true,
    "id": "7e711289-8583-455b-bce5-53fd64fab0be",
    "tags": []
   },
   "outputs": [],
   "source": [
    "#!/usr/bin/env python\n",
    "# PYTHON_ARGCOMPLETE_OK\n",
    "\n",
    "\"\"\"Over minimal, implements a random access buffer structure for hiding the jitter.\"\"\"\n",
    "\n",
    "import argparse\n",
    "import sounddevice as sd\n",
    "import numpy as np\n",
    "import socket\n",
    "import time\n",
    "import psutil\n",
    "import math\n",
    "import struct\n",
    "import threading\n",
    "import NAT_traversal\n",
    "import soundfile as sf\n",
    "import logging\n",
    "\n",
    "NAT_traversal.minimal.parser.add_argument(\"-b\", \"--buffering_time\", type=int, default=150, help=\"Miliseconds to buffer\")\n",
    "\n",
    "class Buffering(NAT_traversal.NAT_Traversal):\n",
    "\n",
    "    CHUNK_NUMBERS = 1 << 15 # Enought for most buffering times.\n",
    "\n",
    "    def __init__(self):\n",
    "        ''' Initializes the buffer. '''\n",
    "        super().__init__()\n",
    "        logging.info(__doc__)\n",
    "        if NAT_traversal.minimal.args.buffering_time <= 0:\n",
    "            NAT_traversal.minimal.args.buffering_time = 1 # ms\n",
    "        logging.info(f\"buffering_time = {NAT_traversal.minimal.args.buffering_time} miliseconds\")\n",
    "        self.chunks_to_buffer = int(math.ceil(NAT_traversal.minimal.args.buffering_time / 1000 / self.chunk_time))\n",
    "        self.zero_chunk = self.generate_zero_chunk()\n",
    "        self.cells_in_buffer = self.chunks_to_buffer * 2\n",
    "        self._buffer = [None] * self.cells_in_buffer\n",
    "        for i in range(self.cells_in_buffer):\n",
    "            self._buffer[i] = self.zero_chunk\n",
    "        #self.sock.settimeout(self.chunk_time)\n",
    "        #self.sock.settimeout(0)\n",
    "        self.chunk_number = 0\n",
    "        logging.info(f\"chunks_to_buffer = {self.chunks_to_buffer}\")\n",
    "\n",
    "        if NAT_traversal.minimal.args.filename:\n",
    "            logging.info(f\"Using \\\"{NAT_traversal.minimal.args.filename}\\\" as input\")\n",
    "            self.wavfile = sf.SoundFile(NAT_traversal.minimal.args.filename, 'r')\n",
    "            self._handler = self._read_io_and_play\n",
    "            self.stream = self.file_stream\n",
    "        else:\n",
    "            self._handler = self._record_io_and_play\n",
    "            self.stream = self.mic_stream\n",
    "\n",
    "    def pack(self, chunk_number, chunk):\n",
    "        '''Concatenates a chunk number to the chunk.'''\n",
    "        packed_chunk = struct.pack(\"!H\", chunk_number) + chunk.tobytes()\n",
    "        return packed_chunk\n",
    "\n",
    "    def unpack(self, packed_chunk):\n",
    "        '''Splits the packed chunk into a chunk number and a chunk.'''\n",
    "        (chunk_number,) = struct.unpack(\"!H\", packed_chunk[:2])\n",
    "        chunk = packed_chunk[2:]\n",
    "        # Notice that struct.calcsize('H') = 2\n",
    "        chunk = np.frombuffer(chunk, dtype=np.int16)\n",
    "        #chunk = chunk.reshape(minimal.args.frames_per_chunk, self.NUMBER_OF_CHANNELS)\n",
    "        return chunk_number, chunk\n",
    "\n",
    "    def buffer_chunk(self, chunk_number, chunk):\n",
    "        self._buffer[chunk_number % self.cells_in_buffer] = chunk\n",
    "\n",
    "    def unbuffer_next_chunk(self):\n",
    "        chunk = self._buffer[self.played_chunk_number % self.cells_in_buffer]\n",
    "        return chunk\n",
    "\n",
    "    def play_chunk(self, DAC, chunk):\n",
    "        self.played_chunk_number = (self.played_chunk_number + 1) % self.cells_in_buffer\n",
    "        chunk = chunk.reshape(NAT_traversal.minimal.args.frames_per_chunk, self.NUMBER_OF_CHANNELS)\n",
    "        DAC[:] = chunk\n",
    "\n",
    "    def receive(self):\n",
    "        packed_chunk, sender = self.sock.recvfrom(self.MAX_PAYLOAD_BYTES)\n",
    "        return packed_chunk\n",
    "\n",
    "    def receive_and_buffer(self):\n",
    "        if __debug__:\n",
    "            print(next(NAT_traversal.minimal.spinner), end='\\b', flush=True)\n",
    "        packed_chunk = self.receive()\n",
    "        chunk_number, chunk = self.unpack(packed_chunk)\n",
    "        self.buffer_chunk(chunk_number, chunk)\n",
    "        return chunk_number\n",
    "\n",
    "    def _record_io_and_play(self, indata, outdata, frames, time, status):\n",
    "        self.chunk_number = (self.chunk_number + 1) % self.CHUNK_NUMBERS\n",
    "        packed_chunk = self.pack(self.chunk_number, indata)\n",
    "        self.send(packed_chunk)\n",
    "        chunk = self.unbuffer_next_chunk()\n",
    "        self.play_chunk(outdata, chunk)\n",
    "\n",
    "    def _read_io_and_play(self, outdata, frames, time, status):\n",
    "        self.chunk_number = (self.chunk_number + 1) % self.CHUNK_NUMBERS\n",
    "        read_chunk = self.read_chunk_from_file()\n",
    "        packed_chunk = self.pack(self.chunk_number, read_chunk)\n",
    "        self.send(packed_chunk)\n",
    "        chunk = self.unbuffer_next_chunk()\n",
    "        self.play_chunk(outdata, chunk)\n",
    "        return read_chunk\n",
    "\n",
    "    def run(self):\n",
    "        '''Creates the stream, install the callback function, and waits for\n",
    "        an enter-key pressing.'''\n",
    "        logging.info(\"Press CTRL+c to quit\")\n",
    "        self.played_chunk_number = 0\n",
    "        with self.stream(self._handler):\n",
    "            first_received_chunk_number = self.receive_and_buffer()\n",
    "            logging.debug(\"first_received_chunk_number =\", first_received_chunk_number)\n",
    "\n",
    "            self.played_chunk_number = (first_received_chunk_number - self.chunks_to_buffer) % self.cells_in_buffer\n",
    "            # The previous selects the first chunk to be played the\n",
    "            # one (probably empty) that are in the buffer\n",
    "            # <self.chunks_to_buffer> position before\n",
    "                # <first_received_chunk_number>.\n",
    "\n",
    "            while True:# and not self.input_exhausted:\n",
    "                self.receive_and_buffer()\n",
    "\n",
    "class Buffering__verbose(Buffering, NAT_traversal.minimal.Minimal__verbose):\n",
    "\n",
    "    def __init__(self):\n",
    "        super().__init__()\n",
    "\n",
    "        thread = threading.Thread(target=self.feedback)\n",
    "        thread.daemon = True # To obey CTRL+C interruption.\n",
    "        thread.start()\n",
    "\n",
    "    def feedback(self):\n",
    "        while True:\n",
    "            time.sleep(self.seconds_per_cycle)\n",
    "            self.cycle_feedback()\n",
    "\n",
    "    def send(self, packed_chunk):\n",
    "        '''Computes the number of sent bytes and the number of sent\n",
    "        packets.'''\n",
    "        Buffering.send(self, packed_chunk)\n",
    "        self.sent_bytes_count += len(packed_chunk)\n",
    "        self.sent_messages_count += 1\n",
    "\n",
    "    def receive(self):\n",
    "        '''Computes the number of received bytes and the number of received\n",
    "        packets.'''\n",
    "        packed_chunk = Buffering.receive(self)\n",
    "        self.received_bytes_count += len(packed_chunk)\n",
    "        self.received_messages_count += 1\n",
    "        return packed_chunk\n",
    "\n",
    "    def _record_io_and_play(self, indata, outdata, frames, time, status):\n",
    "        if NAT_traversal.minimal.args.show_samples:\n",
    "            self.show_indata(indata)\n",
    "\n",
    "        super()._record_io_and_play(indata, outdata, frames, time, status)\n",
    "\n",
    "        if NAT_traversal.minimal.args.show_samples:\n",
    "            self.show_outdata(outdata)\n",
    "\n",
    "    def _read_io_and_play(self, outdata, frames, time, status):\n",
    "        if NAT_traversal.minimal.args.show_samples:\n",
    "            self.show_indata(indata) # OJO, indata undefined\n",
    "\n",
    "        read_chunk = super()._read_io_and_play(outdata, frames, time, status)\n",
    "\n",
    "        if NAT_traversal.minimal.args.show_samples:\n",
    "            self.show_outdata(outdata)\n",
    "        return read_chunk\n",
    "\n",
    "    def run(self):\n",
    "        '''Run the verbose Buffering.'''\n",
    "        self.print_running_info()\n",
    "        super().print_header()\n",
    "        #try:\n",
    "        self.played_chunk_number = 0\n",
    "        with self.stream(self._handler):\n",
    "            first_received_chunk_number = self.receive_and_buffer()\n",
    "            if __debug__:\n",
    "                print(\"first_received_chunk_number =\", first_received_chunk_number)\n",
    "            self.played_chunk_number = (first_received_chunk_number - self.chunks_to_buffer) % self.cells_in_buffer\n",
    "            while self.total_number_of_sent_chunks < self.chunks_to_sent:# and not self.input_exhausted:\n",
    "                self.receive_and_buffer()\n",
    "            #self.print_final_averages()\n",
    "       # except KeyboardInterrupt:\n",
    "       #     self.print_final_averages()\n",
    "\n",
    "try:\n",
    "    import argcomplete  # <tab> completion for argparse.\n",
    "except ImportError:\n",
    "    logging.warning(\"Unable to import argcomplete (optional)\")\n",
    "\n",
    "if __name__ == \"__main__\":\n",
    "    NAT_traversal.minimal.parser.description = __doc__\n",
    "\n",
    "    try:\n",
    "        argcomplete.autocomplete(NAT_traversal.minimal.parser)\n",
    "    except Exception:\n",
    "        logging.warning(\"argcomplete not working :-/\")\n",
    "\n",
    "    NAT_traversal.minimal.args = NAT_traversal.minimal.parser.parse_known_args()[0]\n",
    "\n",
    "    if NAT_traversal.minimal.args.list_devices:\n",
    "        print(\"Available devices:\")\n",
    "        print(sd.query_devices())\n",
    "        quit()\n",
    "\n",
    "    if NAT_traversal.minimal.args.show_stats or NAT_traversal.minimal.args.show_samples:\n",
    "        intercom = Buffering__verbose()\n",
    "    else:\n",
    "        intercom = Buffering()\n",
    "    try:\n",
    "        intercom.run()\n",
    "    except KeyboardInterrupt:\n",
    "        NAT_traversal.minimal.parser.exit(\"\\nSIGINT received\")\n",
    "    finally:\n",
    "        intercom.print_final_averages()\n"
   ]
  },
  {
   "cell_type": "markdown",
   "id": "7458031a-8870-4332-83d9-1a423502d4c0",
   "metadata": {
    "editable": true,
    "id": "7458031a-8870-4332-83d9-1a423502d4c0",
    "tags": []
   },
   "source": [
    "Para ejecutarlo usamos:"
   ]
  },
  {
   "cell_type": "code",
   "execution_count": null,
   "id": "891053c6-dad8-4cb7-b9cd-02ab89b5f5db",
   "metadata": {
    "editable": true,
    "id": "891053c6-dad8-4cb7-b9cd-02ab89b5f5db",
    "outputId": "a2200a03-ee58-4873-818f-1f20fdf3f1bc",
    "scrolled": true,
    "tags": []
   },
   "outputs": [
    {
     "name": "stdout",
     "output_type": "stream",
     "text": [
      "(INFO) minimal: A minimal InterCom (no compression, no quantization, no transform, ... only provides a bidirectional (full-duplex) transmission of raw (playable) chunks. \n",
      "(INFO) minimal: NUMBER_OF_CHANNELS = 2\n",
      "(INFO) minimal: chunk_time = 0.023219954648526078 seconds\n",
      "(INFO) NAT_traversal: A minimal InterCom (no compression, no quantization, no transform, ... only provides a bidirectional (full-duplex) transmission of raw (playable) chunks. \n",
      "(INFO) buffer: Over minimal, implements a random access buffer structure for hiding the jitter.\n",
      "(INFO) buffer: buffering_time = 150 miliseconds\n",
      "(INFO) buffer: chunks_to_buffer = 7\n",
      "(INFO) buffer: Press CTRL+c to quit\n",
      "^C\n",
      "\n",
      "SIGINT received\n"
     ]
    }
   ],
   "source": [
    "import os\n",
    "os.chdir('/home/javier/Escritorio/NAT')\n",
    "!python3 buffer.py"
   ]
  },
  {
   "cell_type": "markdown",
   "id": "e225011a-16c1-4e4e-a046-d532004dc0e0",
   "metadata": {
    "editable": true,
    "id": "e225011a-16c1-4e4e-a046-d532004dc0e0",
    "tags": []
   },
   "source": [
    "Para comprobar la comunicación entre dos dispositivos ejecutamos:"
   ]
  },
  {
   "cell_type": "code",
   "execution_count": null,
   "id": "b42a70ff-6367-4a45-99dd-8bdf0ab2e033",
   "metadata": {
    "editable": true,
    "id": "b42a70ff-6367-4a45-99dd-8bdf0ab2e033",
    "outputId": "ec3c2b81-820c-42df-aa70-42249ab1c927",
    "tags": []
   },
   "outputs": [
    {
     "name": "stdout",
     "output_type": "stream",
     "text": [
      "(INFO) minimal: A minimal InterCom (no compression, no quantization, no transform, ... only provides a bidirectional (full-duplex) transmission of raw (playable) chunks. \n",
      "(INFO) minimal: NUMBER_OF_CHANNELS = 2\n",
      "(INFO) minimal: chunk_time = 0.023219954648526078 seconds\n",
      "(INFO) buffer: Over minimal, implements a random access buffer structure for hiding the jitter.\n",
      "(INFO) buffer: buffering_time = 60 miliseconds\n",
      "(INFO) buffer: chunks_to_buffer = 3\n",
      "(INFO) buffer: Press CTRL+c to quit\n",
      "^C\n",
      "\n",
      "SIGINT received\n"
     ]
    }
   ],
   "source": [
    "import os\n",
    "os.chdir('/home/javier/Escritorio/NAT')\n",
    "!python3 buffer.py -l 54320 -a 85.60.199.122 -p 54320 -b 60"
   ]
  },
  {
   "cell_type": "markdown",
   "id": "a566c946-cd81-466e-8a34-8b87c29fe25b",
   "metadata": {
    "editable": true,
    "id": "a566c946-cd81-466e-8a34-8b87c29fe25b",
    "tags": []
   },
   "source": [
    "## **`Integrantes del grupo`**\n",
    "\n",
    "- Antonio José Sanchez Carrión\n",
    "- Daryna Morales Poklad\n",
    "- Mónica del Pilar Rispal Rodríguez\n",
    "- Javier Cano González"
   ]
  }
 ],
 "metadata": {
  "colab": {
   "provenance": []
  },
  "kernelspec": {
   "display_name": "Python 3 (ipykernel)",
   "language": "python",
   "name": "python3"
  },
  "language_info": {
   "codemirror_mode": {
    "name": "ipython",
    "version": 3
   },
   "file_extension": ".py",
   "mimetype": "text/x-python",
   "name": "python",
   "nbconvert_exporter": "python",
   "pygments_lexer": "ipython3",
   "version": "3.10.12"
  }
 },
 "nbformat": 4,
 "nbformat_minor": 5
}
